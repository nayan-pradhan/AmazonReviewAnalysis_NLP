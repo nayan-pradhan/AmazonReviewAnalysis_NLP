{
 "cells": [
  {
   "cell_type": "code",
   "execution_count": null,
   "metadata": {},
   "outputs": [],
   "source": []
  },
  {
   "cell_type": "code",
   "execution_count": 1,
   "metadata": {},
   "outputs": [],
   "source": [
    "import spacy\n",
    "from spacy import displacy # visualize data"
   ]
  },
  {
   "cell_type": "code",
   "execution_count": 2,
   "metadata": {},
   "outputs": [],
   "source": [
    "nlp = spacy.load('en_core_web_sm') # small model of eng language library"
   ]
  },
  {
   "cell_type": "code",
   "execution_count": 15,
   "metadata": {},
   "outputs": [],
   "source": [
    "text = \"This is my first sentence. This is the second sentence. This is the third sentence.\""
   ]
  },
  {
   "cell_type": "code",
   "execution_count": 16,
   "metadata": {},
   "outputs": [],
   "source": [
    "doc = nlp(text)"
   ]
  },
  {
   "cell_type": "code",
   "execution_count": 17,
   "metadata": {},
   "outputs": [
    {
     "name": "stdout",
     "output_type": "stream",
     "text": [
      "This\n",
      "is\n",
      "my\n",
      "first\n",
      "sentence\n",
      ".\n",
      "This\n",
      "is\n",
      "the\n",
      "second\n",
      "sentence\n",
      ".\n",
      "This\n",
      "is\n",
      "the\n",
      "third\n",
      "sentence\n",
      ".\n"
     ]
    }
   ],
   "source": [
    "for token in doc:\n",
    "    print(token)"
   ]
  },
  {
   "cell_type": "code",
   "execution_count": 22,
   "metadata": {},
   "outputs": [],
   "source": [
    "sentence_maker = nlp.create_pipe('sentencizer')"
   ]
  },
  {
   "cell_type": "code",
   "execution_count": 23,
   "metadata": {},
   "outputs": [],
   "source": [
    "# nlp.add_pipe(sent, before='parser')\n",
    "# doc = nlp(text)"
   ]
  },
  {
   "cell_type": "code",
   "execution_count": 24,
   "metadata": {},
   "outputs": [
    {
     "name": "stdout",
     "output_type": "stream",
     "text": [
      "This is my first sentence.\n",
      "This is the second sentence.\n",
      "This is the third sentence.\n"
     ]
    }
   ],
   "source": [
    "for sentence in doc.sents:\n",
    "    print(sentence)"
   ]
  },
  {
   "cell_type": "code",
   "execution_count": 28,
   "metadata": {},
   "outputs": [
    {
     "name": "stdout",
     "output_type": "stream",
     "text": [
      "['eight', 'becomes', 'did', '‘ve', 'those', 'anyway', 'a', 'had', 'from', 'though', 'them', 'whom', 'three', 'yet', 'go', 'although', 'an', 'ours', 'thus', 'top', 'there', 'former', 'elsewhere', 'only', 'last', 'when', 'seem', '’d', 'or', 'am', 'through', 'the', 'has', 'have', 'are', 'nevertheless', 'all', 'because', 'afterwards', 'perhaps', 'could', 'what', 'per', 'five', 'somewhere', 'any', 'ten', 'at', 'thereby', 'yourself', 'over', \"'ve\", 'often', 'was', 'whereafter', 'beforehand', 'empty', 'anything', 'whereby', 'with', 'themselves', 'few', 'back', 'so', 'latterly', 'fifty', 'no', 'whoever', 'as', 'front', 'therefore', 'whereas', 'these', 'third', 'became', 're', 'upon', 'across', 'its', \"n't\", 'does', 'before', 'even', 'be', 'yours', 'then', 'whole', '‘ll', 'anywhere', 'yourselves', 'sometime', 'since', 'while', 'herein', 'of', 'without', 'off', 'every', 'almost', 'moreover', 'become', 'someone', 'ourselves', 'whatever', 'thence', 'thereafter', 'can', 'under', 'each', 'thereupon', 'hundred', 'everyone', 'throughout', 'quite', 'becoming', 'still', 'therein', 'her', 'seems', 'besides', 'whose', 'unless', 'hereby', 'whenever', 'us', 'amount', 'been', 'where', 'some', 'seemed', 'most', 'our', 'by', 'keep', 'mine', 'hers', 'four', 'now', 'herself', 'show', 'regarding', 'is', 'give', 'out', 'should', 'via', 'beside', 'part', 'nowhere', 'n‘t', 'about', 'call', 'just', 'same', 'he', 'such', 'meanwhile', '’m', 'thru', 'serious', 'alone', 'another', 'n’t', \"'ll\", 'will', 'two', 'they', 'for', 'not', 'down', 'much', 'never', 'may', 'wherein', 'always', 'ca', 'made', 'next', 'but', 'against', 'myself', 'wherever', 'ever', 'we', 'around', 'please', 'anyone', 'something', 'done', 'on', 'whereupon', 'do', 'sometimes', 'latter', 'eleven', 'get', 'onto', 'hence', 'noone', 'neither', 'she', 'forty', 'too', 'your', 'into', 'everything', 'fifteen', 'enough', 'say', 'which', 'being', 'again', 'during', 'were', '’ll', 'however', 'somehow', 'nor', 'others', 'between', 'him', 'behind', 'name', 'along', 'first', 'here', 'namely', 'doing', 'hereafter', 'his', 'formerly', 'none', 'would', 'except', 'further', '‘d', 'whence', 'anyhow', 'put', 'if', 'beyond', 'within', 'himself', 'my', '‘re', 'you', 'everywhere', 'own', '’s', 'else', \"'re\", 'less', 'otherwise', 'make', 'twelve', 'six', 'why', 'hereupon', 'nine', 'bottom', \"'d\", 'it', 'once', 'using', 'either', 'whither', 'until', 'towards', 'least', 'also', 'how', 'whether', 'below', 'and', 'i', 'more', 'one', 'their', 'move', 'nobody', 'who', 'that', 'already', 'seeming', 'several', 'side', 'sixty', 'toward', 'to', 'this', 'rather', 'up', 'after', 'full', 'twenty', 'used', 'other', 'well', 'various', 'cannot', 'me', 'see', 'itself', 'in', 'both', 'must', '‘s', 'amongst', \"'s\", 'might', 'nothing', '’re', 'together', 'many', 'take', 'than', \"'m\", 'indeed', 'very', 'due', '’ve', 'among', 'really', 'above', '‘m', 'mostly']\n"
     ]
    },
    {
     "data": {
      "text/plain": [
       "326"
      ]
     },
     "execution_count": 28,
     "metadata": {},
     "output_type": "execute_result"
    }
   ],
   "source": [
    "from spacy.lang.en.stop_words import STOP_WORDS\n",
    "stop_words = list(STOP_WORDS)\n",
    "# print(stop_words)"
   ]
  },
  {
   "cell_type": "code",
   "execution_count": null,
   "metadata": {},
   "outputs": [],
   "source": []
  }
 ],
 "metadata": {
  "kernelspec": {
   "display_name": "Python 3",
   "language": "python",
   "name": "python3"
  },
  "language_info": {
   "codemirror_mode": {
    "name": "ipython",
    "version": 3
   },
   "file_extension": ".py",
   "mimetype": "text/x-python",
   "name": "python",
   "nbconvert_exporter": "python",
   "pygments_lexer": "ipython3",
   "version": "3.7.6"
  }
 },
 "nbformat": 4,
 "nbformat_minor": 4
}
