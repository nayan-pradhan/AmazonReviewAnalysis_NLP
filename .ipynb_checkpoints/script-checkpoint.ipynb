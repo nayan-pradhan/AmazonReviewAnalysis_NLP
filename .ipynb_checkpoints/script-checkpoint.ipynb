{
 "cells": [
  {
   "cell_type": "code",
   "execution_count": 16,
   "metadata": {},
   "outputs": [],
   "source": [
    "import pandas as pd\n",
    "from sklearn.feature_extraction.text import TfidfVectorizer\n",
    "from sklearn.pipeline import Pipeline\n",
    "from sklearn.model_selection import train_test_split\n",
    "from sklearn.metrics import accuracy_score, classification_report, confusion_matrix\n",
    "import string\n",
    "from spacy.lang.en.stop_words import STOP_WORDS\n",
    "import spacy"
   ]
  },
  {
   "cell_type": "code",
   "execution_count": 17,
   "metadata": {},
   "outputs": [],
   "source": [
    "data = pd.read_csv('amazon_data.txt', sep='\\t', header=None)"
   ]
  },
  {
   "cell_type": "code",
   "execution_count": 18,
   "metadata": {},
   "outputs": [
    {
     "data": {
      "text/html": [
       "<div>\n",
       "<style scoped>\n",
       "    .dataframe tbody tr th:only-of-type {\n",
       "        vertical-align: middle;\n",
       "    }\n",
       "\n",
       "    .dataframe tbody tr th {\n",
       "        vertical-align: top;\n",
       "    }\n",
       "\n",
       "    .dataframe thead th {\n",
       "        text-align: right;\n",
       "    }\n",
       "</style>\n",
       "<table border=\"1\" class=\"dataframe\">\n",
       "  <thead>\n",
       "    <tr style=\"text-align: right;\">\n",
       "      <th></th>\n",
       "      <th>Review</th>\n",
       "      <th>Sentiment</th>\n",
       "    </tr>\n",
       "  </thead>\n",
       "  <tbody>\n",
       "    <tr>\n",
       "      <th>0</th>\n",
       "      <td>So there is no way for me to plug it in here i...</td>\n",
       "      <td>0</td>\n",
       "    </tr>\n",
       "    <tr>\n",
       "      <th>1</th>\n",
       "      <td>Good case, Excellent value.</td>\n",
       "      <td>1</td>\n",
       "    </tr>\n",
       "    <tr>\n",
       "      <th>2</th>\n",
       "      <td>Great for the jawbone.</td>\n",
       "      <td>1</td>\n",
       "    </tr>\n",
       "    <tr>\n",
       "      <th>3</th>\n",
       "      <td>Tied to charger for conversations lasting more...</td>\n",
       "      <td>0</td>\n",
       "    </tr>\n",
       "    <tr>\n",
       "      <th>4</th>\n",
       "      <td>The mic is great.</td>\n",
       "      <td>1</td>\n",
       "    </tr>\n",
       "  </tbody>\n",
       "</table>\n",
       "</div>"
      ],
      "text/plain": [
       "                                              Review  Sentiment\n",
       "0  So there is no way for me to plug it in here i...          0\n",
       "1                        Good case, Excellent value.          1\n",
       "2                             Great for the jawbone.          1\n",
       "3  Tied to charger for conversations lasting more...          0\n",
       "4                                  The mic is great.          1"
      ]
     },
     "execution_count": 18,
     "metadata": {},
     "output_type": "execute_result"
    }
   ],
   "source": [
    "data.columns = [\"Review\", \"Sentiment\"]\n",
    "data.head()"
   ]
  },
  {
   "cell_type": "code",
   "execution_count": 19,
   "metadata": {},
   "outputs": [
    {
     "data": {
      "text/plain": [
       "1    500\n",
       "0    500\n",
       "Name: Sentiment, dtype: int64"
      ]
     },
     "execution_count": 19,
     "metadata": {},
     "output_type": "execute_result"
    }
   ],
   "source": [
    "data[\"Sentiment\"].value_counts() # checking data"
   ]
  },
  {
   "cell_type": "code",
   "execution_count": 20,
   "metadata": {},
   "outputs": [
    {
     "data": {
      "text/plain": [
       "Review       0\n",
       "Sentiment    0\n",
       "dtype: int64"
      ]
     },
     "execution_count": 20,
     "metadata": {},
     "output_type": "execute_result"
    }
   ],
   "source": [
    "data.isnull().sum() # checking for null values"
   ]
  },
  {
   "cell_type": "code",
   "execution_count": 25,
   "metadata": {},
   "outputs": [],
   "source": [
    "## helpers for data cleaning\n",
    "punctuation = string.punctuation\n",
    "stop_words = list(STOP_WORDS)\n",
    "nlp = spacy.load(\"en_core_web_sm\")\n",
    "numbers = string.digits\n",
    "# print(stop_words)\n",
    "## function that cleans input text\n",
    "def cleaning_function(input_text):\n",
    "    text = nlp(input_text)\n",
    "    tokens = []\n",
    "    for token in text:\n",
    "        temp = token.lemma_.lower()\n",
    "        tokens.append(temp)\n",
    "\n",
    "    cleaned_tokens = []\n",
    "    for token in tokens:\n",
    "        if token not in stop_words and token not in punctuation and token not in numbers:\n",
    "            cleaned_tokens.append(token)\n",
    "    return cleaned_tokens"
   ]
  },
  {
   "cell_type": "code",
   "execution_count": 26,
   "metadata": {},
   "outputs": [
    {
     "name": "stdout",
     "output_type": "stream",
     "text": [
      "['mic', 'great']\n",
      "['being', 'whereafter', 'two', 'only', 'thus', 'through', 'further', 'hereupon', 'would', 'one', 'without', 'are', 'whole', 'why', 'rather', 'several', 'any', 'next', 'had', 'might', '’m', 'and', 'quite', 'an', 'eleven', 'latter', 'used', 'enough', 'the', 'nobody', 'so', 'were', 'whither', 'however', 'latterly', 'yours', 'both', 'mostly', 'been', 'nothing', 'bottom', 'too', 'somewhere', 'during', 'her', 'itself', 'three', 'onto', 'sometimes', 'toward', 'something', 'never', 'in', 'hereafter', 'must', 'thereby', 'former', 'by', 'from', 'fifteen', 'amongst', 'after', 'together', 'herein', 'if', 'before', 'give', 'here', 'twenty', 'back', 'noone', 'five', 'others', 'even', 'that', 'empty', 'full', 'a', 'they', 'upon', 'always', 'along', 'about', 'moreover', 'each', 'else', 'see', 'for', 'n‘t', 'perhaps', 'around', 'your', 'get', 'has', 'yourselves', '’d', 'four', 'many', 'already', 'can', 'more', 'his', 'show', 'on', 'whether', 'indeed', '’re', \"'s\", 'although', 'besides', 'nevertheless', 'becoming', 'much', 'towards', 'or', 'via', 'against', 'due', 'other', '‘ll', '‘s', 'could', 'beforehand', 'still', '‘m', 'while', 'he', 'wherever', 'such', 'under', 'into', 'below', 'she', 'this', 'afterwards', 'done', 'herself', 'nine', 'everything', 'go', 'therein', 'sometime', 'but', 'seemed', 'therefore', \"'d\", 'call', 'mine', 'few', 'hers', 'themselves', 'what', 'them', 'not', 'whoever', 'its', 'off', 'regarding', 'at', 'should', 'since', 'eight', 'somehow', 'take', 'make', 'nowhere', 'am', 'how', '‘ve', 'over', 'though', 'will', 'i', 'ca', 'of', 'we', \"'re\", 'beyond', 'was', 'becomes', 'made', 'among', 'when', 'doing', 'their', 'often', '’ve', \"'ll\", 'hundred', 'forty', '‘re', 'myself', 'least', 'very', 'front', 'ten', 'say', 'someone', 'formerly', 'please', 'whereupon', 'all', 'really', 'became', \"n't\", 'six', 'whatever', 'name', 'no', 'nor', 'above', 'have', 'be', 'who', 'either', 'these', 'until', 'do', 'every', 'out', 'fifty', 're', 'per', 'is', 'everywhere', 'hence', 'now', 'where', 'within', 'side', \"'m\", 'whence', 'anything', 'my', 'yourself', 'seems', 'keep', 'him', 'less', 'first', 'once', '’ll', 'it', 'across', 'neither', 'same', 'seem', 'up', 'another', 'just', 'whereby', 'did', 'ourselves', 'cannot', 'last', 'which', 'part', 'n’t', 'almost', 'also', 'does', 'alone', 'may', 'ever', 'to', 'whereas', 'top', 'anyhow', '’s', 'than', 'otherwise', 'whenever', 'between', 'whose', 'our', 'everyone', 'anyone', 'whom', 'with', 'serious', '‘d', 'again', 'unless', 'put', \"'ve\", 'thru', 'meanwhile', 'move', 'twelve', 'except', 'down', 'using', 'various', 'you', 'some', 'me', 'own', 'beside', 'wherein', 'amount', 'most', 'sixty', 'anyway', 'third', 'thereafter', 'seeming', 'become', 'himself', 'behind', 'elsewhere', 'well', 'then', 'those', 'there', 'us', 'as', 'none', 'ours', 'because', 'hereby', 'yet', 'thereupon', 'anywhere', 'namely', 'throughout', 'thence']\n"
     ]
    }
   ],
   "source": [
    "## test\n",
    "cleaned_text = cleaning_function(data[\"Review\"][4])\n",
    "print(cleaned_text)"
   ]
  },
  {
   "cell_type": "code",
   "execution_count": null,
   "metadata": {},
   "outputs": [],
   "source": []
  }
 ],
 "metadata": {
  "kernelspec": {
   "display_name": "Python 3",
   "language": "python",
   "name": "python3"
  },
  "language_info": {
   "codemirror_mode": {
    "name": "ipython",
    "version": 3
   },
   "file_extension": ".py",
   "mimetype": "text/x-python",
   "name": "python",
   "nbconvert_exporter": "python",
   "pygments_lexer": "ipython3",
   "version": "3.7.6"
  }
 },
 "nbformat": 4,
 "nbformat_minor": 4
}
