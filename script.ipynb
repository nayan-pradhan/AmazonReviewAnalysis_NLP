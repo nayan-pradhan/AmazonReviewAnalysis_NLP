{
 "cells": [
  {
   "cell_type": "code",
   "execution_count": 1,
   "metadata": {},
   "outputs": [],
   "source": [
    "import pandas as pd\n",
    "from sklearn.feature_extraction.text import TfidfVectorizer\n",
    "from sklearn.pipeline import Pipeline\n",
    "from sklearn.model_selection import train_test_split\n",
    "from sklearn.metrics import accuracy_score, classification_report, confusion_matrix\n",
    "import string\n",
    "from spacy.lang.en.stop_words import STOP_WORDS\n",
    "import spacy\n",
    "from sklearn.svm import LinearSVC\n",
    "from google_trans_new import google_translator\n",
    "import time\n",
    "from selenium.webdriver.common.by import By\n",
    "from selenium.webdriver.support.ui import WebDriverWait\n",
    "from selenium.webdriver.support import expected_conditions as EC"
   ]
  },
  {
   "cell_type": "markdown",
   "metadata": {},
   "source": [
    "# Training data"
   ]
  },
  {
   "cell_type": "code",
   "execution_count": 2,
   "metadata": {},
   "outputs": [],
   "source": [
    "data = pd.read_csv('amazon_data.txt', sep='\\t', header=None)"
   ]
  },
  {
   "cell_type": "code",
   "execution_count": 3,
   "metadata": {},
   "outputs": [
    {
     "data": {
      "text/html": [
       "<div>\n",
       "<style scoped>\n",
       "    .dataframe tbody tr th:only-of-type {\n",
       "        vertical-align: middle;\n",
       "    }\n",
       "\n",
       "    .dataframe tbody tr th {\n",
       "        vertical-align: top;\n",
       "    }\n",
       "\n",
       "    .dataframe thead th {\n",
       "        text-align: right;\n",
       "    }\n",
       "</style>\n",
       "<table border=\"1\" class=\"dataframe\">\n",
       "  <thead>\n",
       "    <tr style=\"text-align: right;\">\n",
       "      <th></th>\n",
       "      <th>Review</th>\n",
       "      <th>Sentiment</th>\n",
       "    </tr>\n",
       "  </thead>\n",
       "  <tbody>\n",
       "    <tr>\n",
       "      <th>0</th>\n",
       "      <td>So there is no way for me to plug it in here i...</td>\n",
       "      <td>0</td>\n",
       "    </tr>\n",
       "    <tr>\n",
       "      <th>1</th>\n",
       "      <td>Good case, Excellent value.</td>\n",
       "      <td>1</td>\n",
       "    </tr>\n",
       "    <tr>\n",
       "      <th>2</th>\n",
       "      <td>Great for the jawbone.</td>\n",
       "      <td>1</td>\n",
       "    </tr>\n",
       "    <tr>\n",
       "      <th>3</th>\n",
       "      <td>Tied to charger for conversations lasting more...</td>\n",
       "      <td>0</td>\n",
       "    </tr>\n",
       "    <tr>\n",
       "      <th>4</th>\n",
       "      <td>The mic is great.</td>\n",
       "      <td>1</td>\n",
       "    </tr>\n",
       "  </tbody>\n",
       "</table>\n",
       "</div>"
      ],
      "text/plain": [
       "                                              Review  Sentiment\n",
       "0  So there is no way for me to plug it in here i...          0\n",
       "1                        Good case, Excellent value.          1\n",
       "2                             Great for the jawbone.          1\n",
       "3  Tied to charger for conversations lasting more...          0\n",
       "4                                  The mic is great.          1"
      ]
     },
     "execution_count": 3,
     "metadata": {},
     "output_type": "execute_result"
    }
   ],
   "source": [
    "data.columns = [\"Review\", \"Sentiment\"]\n",
    "data.head()"
   ]
  },
  {
   "cell_type": "code",
   "execution_count": 4,
   "metadata": {},
   "outputs": [
    {
     "data": {
      "text/plain": [
       "1    500\n",
       "0    500\n",
       "Name: Sentiment, dtype: int64"
      ]
     },
     "execution_count": 4,
     "metadata": {},
     "output_type": "execute_result"
    }
   ],
   "source": [
    "data[\"Sentiment\"].value_counts() # checking data"
   ]
  },
  {
   "cell_type": "code",
   "execution_count": 5,
   "metadata": {},
   "outputs": [
    {
     "data": {
      "text/plain": [
       "Review       0\n",
       "Sentiment    0\n",
       "dtype: int64"
      ]
     },
     "execution_count": 5,
     "metadata": {},
     "output_type": "execute_result"
    }
   ],
   "source": [
    "data.isnull().sum() # checking for null values"
   ]
  },
  {
   "cell_type": "code",
   "execution_count": 6,
   "metadata": {},
   "outputs": [],
   "source": [
    "## helpers for data cleaning\n",
    "punctuation = string.punctuation\n",
    "stop_words = list(STOP_WORDS)\n",
    "nlp = spacy.load(\"en_core_web_sm\")\n",
    "numbers = string.digits\n",
    "# print(stop_words)\n",
    "## function that cleans input text\n",
    "def cleaning_function(input_text):\n",
    "    text = nlp(input_text)\n",
    "    tokens = []\n",
    "    for token in text:\n",
    "        temp = token.lemma_.lower()\n",
    "        tokens.append(temp)\n",
    "\n",
    "    cleaned_tokens = []\n",
    "    for token in tokens:\n",
    "        if token not in stop_words and token not in punctuation and token not in numbers:\n",
    "            cleaned_tokens.append(token)\n",
    "    return cleaned_tokens"
   ]
  },
  {
   "cell_type": "code",
   "execution_count": 7,
   "metadata": {},
   "outputs": [
    {
     "name": "stdout",
     "output_type": "stream",
     "text": [
      "['mic', 'great']\n"
     ]
    }
   ],
   "source": [
    "## test\n",
    "cleaned_text = cleaning_function(data[\"Review\"][4])\n",
    "print(cleaned_text)"
   ]
  },
  {
   "cell_type": "code",
   "execution_count": 8,
   "metadata": {},
   "outputs": [],
   "source": [
    "X = data[\"Review\"]\n",
    "y = data[\"Sentiment\"]"
   ]
  },
  {
   "cell_type": "code",
   "execution_count": 9,
   "metadata": {},
   "outputs": [
    {
     "name": "stdout",
     "output_type": "stream",
     "text": [
      "Classification Report for SVC:\n",
      "              precision    recall  f1-score   support\n",
      "\n",
      "           0       0.75      0.82      0.79       154\n",
      "           1       0.79      0.72      0.75       146\n",
      "\n",
      "    accuracy                           0.77       300\n",
      "   macro avg       0.77      0.77      0.77       300\n",
      "weighted avg       0.77      0.77      0.77       300\n",
      "\n",
      "Confusion Matrix for SVC:\n",
      "[[126  28]\n",
      " [ 41 105]]\n"
     ]
    }
   ],
   "source": [
    "## SVC using tfidf (bag of words)\n",
    "\n",
    "tfidf = TfidfVectorizer(tokenizer = cleaning_function)\n",
    "classifier = LinearSVC()\n",
    "X_train, X_test, y_train, y_test = train_test_split(X, y, test_size = 0.3, random_state=50)\n",
    "SVC_clf = Pipeline([('tfidf', tfidf), ('clf', classifier)])\n",
    "SVC_clf.fit(X_train, y_train)\n",
    "y_pred = SVC_clf.predict(X_test)\n",
    "\n",
    "print(\"Classification Report for SVC:\")\n",
    "print(classification_report(y_test, y_pred))\n",
    "\n",
    "print(\"Confusion Matrix for SVC:\")\n",
    "print(confusion_matrix(y_test, y_pred))"
   ]
  },
  {
   "cell_type": "code",
   "execution_count": 10,
   "metadata": {},
   "outputs": [],
   "source": [
    "def predict_func(string):\n",
    "    temp = SVC_clf.predict([string])\n",
    "    if (temp[0]==0):\n",
    "        return(\"Negative Review\")\n",
    "    else:\n",
    "        return(\"Positive Review\")"
   ]
  },
  {
   "cell_type": "code",
   "execution_count": 11,
   "metadata": {},
   "outputs": [],
   "source": [
    "## For testing \n",
    "# user_input_text = input(\"Enter review: \")\n",
    "# user_input_pred = predict_func(user_input_text)\n",
    "# print(\"-->\",user_input_pred)"
   ]
  },
  {
   "cell_type": "markdown",
   "metadata": {},
   "source": [
    "# Text Scraping"
   ]
  },
  {
   "cell_type": "code",
   "execution_count": 12,
   "metadata": {},
   "outputs": [],
   "source": [
    "## Add feature: input URL by user and output how many positive and negative comments"
   ]
  },
  {
   "cell_type": "code",
   "execution_count": 17,
   "metadata": {},
   "outputs": [
    {
     "name": "stdout",
     "output_type": "stream",
     "text": [
      "Enter Amazon URL: https://www.amazon.com/Acer-SB220Q-Ultra-Thin-Frame-Monitor/dp/B07CVL2D2S/ref=lp_16225007011_1_10?th=1\n"
     ]
    }
   ],
   "source": [
    "from selenium import webdriver\n",
    "from pathlib import Path \n",
    "from bs4 import BeautifulSoup\n",
    "\n",
    "DRIVER_PATH= str(Path('chromedriver').resolve())\n",
    "\n",
    "user_input_URL = input(\"Enter Amazon URL: \")\n",
    "\n",
    "# print(user_input_URL)\n",
    "\n",
    "# https://www.amazon.com/Acer-SB220Q-Ultra-Thin-Frame-Monitor/dp/B07CVL2D2S/ref=lp_16225007011_1_10?th=1"
   ]
  },
  {
   "cell_type": "code",
   "execution_count": 18,
   "metadata": {},
   "outputs": [],
   "source": [
    "translator = google_translator()\n",
    "driver = webdriver.Chrome(executable_path=DRIVER_PATH)\n",
    "driver.get(user_input_URL)\n",
    "html = driver.page_source\n",
    "soup = BeautifulSoup(html, 'lxml')\n",
    "\n",
    "all_reviews_button = driver.find_elements_by_xpath('//*[@id=\"cr-pagination-footer-0\"]/a')[0]\n",
    "all_reviews_button.click()\n",
    "\n",
    "all_pages_reached = False\n",
    "\n",
    "comment_arr = []\n",
    "ratings_arr = []\n",
    "\n",
    "pages = 0\n",
    "while pages < 15:\n",
    "# while not all_pages_reached:\n",
    "    pages += 1\n",
    "    comments = soup.find_all('span', {'data-hook':'review-body'})\n",
    "    ratings = soup.find_all('i', {'data-hook':'review-star-rating'})\n",
    "    \n",
    "    for comment in comments:\n",
    "        comment_temp = comment.span.text\n",
    "        time.sleep(0.2)\n",
    "        \n",
    "##         Translator gets blocked from Google's side if there is too many requests\n",
    "#         if((translator.detect(comment_temp))[0]!='en'):\n",
    "#             comment_temp = translator.translate(comment_temp, lang_tgt='en')\n",
    "            \n",
    "        comment_arr.append(comment_temp)\n",
    "    \n",
    "    for rating in ratings:\n",
    "        rating_temp = float(rating.text[:3])\n",
    "        ratings_arr.append(rating_temp)\n",
    "    \n",
    "    try:\n",
    "        next_page_button = WebDriverWait(driver, 10).until(\n",
    "            EC.element_to_be_clickable((By.XPATH, '//*[@id=\"cm_cr-pagination_bar\"]/ul/li[2]/a'))\n",
    "        )\n",
    "        next_page_button.click()\n",
    "    except:\n",
    "        print(\"Finished\")\n",
    "        all_pages_reached = True \n",
    "        break"
   ]
  },
  {
   "cell_type": "code",
   "execution_count": 19,
   "metadata": {},
   "outputs": [
    {
     "name": "stdout",
     "output_type": "stream",
     "text": [
      "Total number of positive reviews: 135\n",
      "Total number of negative reviews: 45\n",
      "Average rating from reviewers: 4.29\n"
     ]
    }
   ],
   "source": [
    "## PREDICT\n",
    "\n",
    "pred_arr = []\n",
    "pos = 0\n",
    "neg = 0\n",
    "\n",
    "for comment in comment_arr:\n",
    "    comment_pred = predict_func(comment)\n",
    "    if comment_pred=='Positive Review':\n",
    "        pos+=1\n",
    "    else:\n",
    "        neg+=1\n",
    "    pred_arr.append(comment_pred)\n",
    "    \n",
    "# print(pred_arr)\n",
    "print(\"Total number of positive reviews:\", pos)\n",
    "print(\"Total number of negative reviews:\", neg)\n",
    "\n",
    "# from scraping\n",
    "print(\"Average rating from reviewers:\", '%.2f' % (sum(ratings_arr)/len(ratings_arr)))"
   ]
  },
  {
   "cell_type": "code",
   "execution_count": 20,
   "metadata": {},
   "outputs": [],
   "source": [
    "driver.quit()"
   ]
  },
  {
   "cell_type": "code",
   "execution_count": null,
   "metadata": {},
   "outputs": [],
   "source": []
  }
 ],
 "metadata": {
  "kernelspec": {
   "display_name": "Python 3",
   "language": "python",
   "name": "python3"
  },
  "language_info": {
   "codemirror_mode": {
    "name": "ipython",
    "version": 3
   },
   "file_extension": ".py",
   "mimetype": "text/x-python",
   "name": "python",
   "nbconvert_exporter": "python",
   "pygments_lexer": "ipython3",
   "version": "3.7.6"
  }
 },
 "nbformat": 4,
 "nbformat_minor": 4
}
