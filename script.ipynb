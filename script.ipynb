{
 "cells": [
  {
   "cell_type": "code",
   "execution_count": 1,
   "metadata": {},
   "outputs": [],
   "source": [
    "import pandas as pd\n",
    "from sklearn.feature_extraction.text import TfidfVectorizer\n",
    "from sklearn.pipeline import Pipeline\n",
    "from sklearn.model_selection import train_test_split\n",
    "from sklearn.metrics import accuracy_score, classification_report, confusion_matrix\n",
    "import string\n",
    "from spacy.lang.en.stop_words import STOP_WORDS\n",
    "import spacy\n",
    "from sklearn.svm import LinearSVC\n",
    "from google_trans_new import google_translator"
   ]
  },
  {
   "cell_type": "markdown",
   "metadata": {},
   "source": [
    "# Training data"
   ]
  },
  {
   "cell_type": "code",
   "execution_count": 2,
   "metadata": {},
   "outputs": [],
   "source": [
    "data = pd.read_csv('amazon_data.txt', sep='\\t', header=None)"
   ]
  },
  {
   "cell_type": "code",
   "execution_count": 3,
   "metadata": {},
   "outputs": [
    {
     "data": {
      "text/html": [
       "<div>\n",
       "<style scoped>\n",
       "    .dataframe tbody tr th:only-of-type {\n",
       "        vertical-align: middle;\n",
       "    }\n",
       "\n",
       "    .dataframe tbody tr th {\n",
       "        vertical-align: top;\n",
       "    }\n",
       "\n",
       "    .dataframe thead th {\n",
       "        text-align: right;\n",
       "    }\n",
       "</style>\n",
       "<table border=\"1\" class=\"dataframe\">\n",
       "  <thead>\n",
       "    <tr style=\"text-align: right;\">\n",
       "      <th></th>\n",
       "      <th>Review</th>\n",
       "      <th>Sentiment</th>\n",
       "    </tr>\n",
       "  </thead>\n",
       "  <tbody>\n",
       "    <tr>\n",
       "      <th>0</th>\n",
       "      <td>So there is no way for me to plug it in here i...</td>\n",
       "      <td>0</td>\n",
       "    </tr>\n",
       "    <tr>\n",
       "      <th>1</th>\n",
       "      <td>Good case, Excellent value.</td>\n",
       "      <td>1</td>\n",
       "    </tr>\n",
       "    <tr>\n",
       "      <th>2</th>\n",
       "      <td>Great for the jawbone.</td>\n",
       "      <td>1</td>\n",
       "    </tr>\n",
       "    <tr>\n",
       "      <th>3</th>\n",
       "      <td>Tied to charger for conversations lasting more...</td>\n",
       "      <td>0</td>\n",
       "    </tr>\n",
       "    <tr>\n",
       "      <th>4</th>\n",
       "      <td>The mic is great.</td>\n",
       "      <td>1</td>\n",
       "    </tr>\n",
       "  </tbody>\n",
       "</table>\n",
       "</div>"
      ],
      "text/plain": [
       "                                              Review  Sentiment\n",
       "0  So there is no way for me to plug it in here i...          0\n",
       "1                        Good case, Excellent value.          1\n",
       "2                             Great for the jawbone.          1\n",
       "3  Tied to charger for conversations lasting more...          0\n",
       "4                                  The mic is great.          1"
      ]
     },
     "execution_count": 3,
     "metadata": {},
     "output_type": "execute_result"
    }
   ],
   "source": [
    "data.columns = [\"Review\", \"Sentiment\"]\n",
    "data.head()"
   ]
  },
  {
   "cell_type": "code",
   "execution_count": 4,
   "metadata": {},
   "outputs": [
    {
     "data": {
      "text/plain": [
       "1    500\n",
       "0    500\n",
       "Name: Sentiment, dtype: int64"
      ]
     },
     "execution_count": 4,
     "metadata": {},
     "output_type": "execute_result"
    }
   ],
   "source": [
    "data[\"Sentiment\"].value_counts() # checking data"
   ]
  },
  {
   "cell_type": "code",
   "execution_count": 5,
   "metadata": {},
   "outputs": [
    {
     "data": {
      "text/plain": [
       "Review       0\n",
       "Sentiment    0\n",
       "dtype: int64"
      ]
     },
     "execution_count": 5,
     "metadata": {},
     "output_type": "execute_result"
    }
   ],
   "source": [
    "data.isnull().sum() # checking for null values"
   ]
  },
  {
   "cell_type": "code",
   "execution_count": 6,
   "metadata": {},
   "outputs": [],
   "source": [
    "## helpers for data cleaning\n",
    "punctuation = string.punctuation\n",
    "stop_words = list(STOP_WORDS)\n",
    "nlp = spacy.load(\"en_core_web_sm\")\n",
    "numbers = string.digits\n",
    "# print(stop_words)\n",
    "## function that cleans input text\n",
    "def cleaning_function(input_text):\n",
    "    text = nlp(input_text)\n",
    "    tokens = []\n",
    "    for token in text:\n",
    "        temp = token.lemma_.lower()\n",
    "        tokens.append(temp)\n",
    "\n",
    "    cleaned_tokens = []\n",
    "    for token in tokens:\n",
    "        if token not in stop_words and token not in punctuation and token not in numbers:\n",
    "            cleaned_tokens.append(token)\n",
    "    return cleaned_tokens"
   ]
  },
  {
   "cell_type": "code",
   "execution_count": 7,
   "metadata": {},
   "outputs": [
    {
     "name": "stdout",
     "output_type": "stream",
     "text": [
      "['mic', 'great']\n"
     ]
    }
   ],
   "source": [
    "## test\n",
    "cleaned_text = cleaning_function(data[\"Review\"][4])\n",
    "print(cleaned_text)"
   ]
  },
  {
   "cell_type": "code",
   "execution_count": 8,
   "metadata": {},
   "outputs": [],
   "source": [
    "X = data[\"Review\"]\n",
    "y = data[\"Sentiment\"]"
   ]
  },
  {
   "cell_type": "code",
   "execution_count": 9,
   "metadata": {},
   "outputs": [
    {
     "name": "stdout",
     "output_type": "stream",
     "text": [
      "Classification Report for SVC:\n",
      "              precision    recall  f1-score   support\n",
      "\n",
      "           0       0.75      0.82      0.79       154\n",
      "           1       0.79      0.72      0.75       146\n",
      "\n",
      "    accuracy                           0.77       300\n",
      "   macro avg       0.77      0.77      0.77       300\n",
      "weighted avg       0.77      0.77      0.77       300\n",
      "\n",
      "Confusion Matrix for SVC:\n",
      "[[126  28]\n",
      " [ 41 105]]\n"
     ]
    }
   ],
   "source": [
    "## SVC using tfidf (bag of words)\n",
    "\n",
    "tfidf = TfidfVectorizer(tokenizer = cleaning_function)\n",
    "classifier = LinearSVC()\n",
    "X_train, X_test, y_train, y_test = train_test_split(X, y, test_size = 0.3, random_state=50)\n",
    "SVC_clf = Pipeline([('tfidf', tfidf), ('clf', classifier)])\n",
    "SVC_clf.fit(X_train, y_train)\n",
    "y_pred = SVC_clf.predict(X_test)\n",
    "\n",
    "print(\"Classification Report for SVC:\")\n",
    "print(classification_report(y_test, y_pred))\n",
    "\n",
    "print(\"Confusion Matrix for SVC:\")\n",
    "print(confusion_matrix(y_test, y_pred))"
   ]
  },
  {
   "cell_type": "code",
   "execution_count": 10,
   "metadata": {},
   "outputs": [],
   "source": [
    "def predict_func(string):\n",
    "    temp = SVC_clf.predict([string])\n",
    "    if (temp[0]==0):\n",
    "        return(\"Negative Review\")\n",
    "    else:\n",
    "        return(\"Positive Review\")"
   ]
  },
  {
   "cell_type": "code",
   "execution_count": 11,
   "metadata": {},
   "outputs": [
    {
     "name": "stdout",
     "output_type": "stream",
     "text": [
      "Enter review: Good product! I recommend for everyone to buy.\n",
      "--> Positive Review\n"
     ]
    }
   ],
   "source": [
    "user_input_text = input(\"Enter review: \")\n",
    "user_input_pred = predict_func(user_input_text)\n",
    "print(\"-->\",user_input_pred)"
   ]
  },
  {
   "cell_type": "markdown",
   "metadata": {},
   "source": [
    "# Text Scraping"
   ]
  },
  {
   "cell_type": "code",
   "execution_count": 12,
   "metadata": {},
   "outputs": [],
   "source": [
    "## Add feature: input URL by user and output how many positive and negative comments"
   ]
  },
  {
   "cell_type": "code",
   "execution_count": 52,
   "metadata": {},
   "outputs": [
    {
     "name": "stdout",
     "output_type": "stream",
     "text": [
      "Enter Amazon URL: https://www.amazon.com/Acer-SB220Q-Ultra-Thin-Frame-Monitor/dp/B07CVL2D2S/ref=lp_16225007011_1_10?th=1\n"
     ]
    }
   ],
   "source": [
    "from selenium import webdriver\n",
    "from pathlib import Path \n",
    "from bs4 import BeautifulSoup\n",
    "\n",
    "DRIVER_PATH= str(Path('chromedriver').resolve())\n",
    "\n",
    "user_input_URL = input(\"Enter Amazon URL: \")\n",
    "\n",
    "# print(user_input_URL)\n",
    "\n",
    "# https://www.amazon.com/Acer-SB220Q-Ultra-Thin-Frame-Monitor/dp/B07CVL2D2S/ref=lp_16225007011_1_10?th=1"
   ]
  },
  {
   "cell_type": "code",
   "execution_count": 33,
   "metadata": {},
   "outputs": [],
   "source": [
    "driver = webdriver.Chrome(executable_path=DRIVER_PATH)\n",
    "driver.get(user_input_URL)\n",
    "html = driver.page_source\n",
    "soup = BeautifulSoup(html, 'lxml')\n",
    "comments = soup.find_all('div', {'data-hook':'review-collapsed'})"
   ]
  },
  {
   "cell_type": "code",
   "execution_count": 37,
   "metadata": {},
   "outputs": [],
   "source": [
    "# print(comments[0].span.text)\n",
    "# for card in cards:\n",
    "#     print (card)\n",
    "\n",
    "comment_arr = []\n",
    "translator = google_translator()\n",
    "\n",
    "for comment in comments:\n",
    "    \n",
    "    comment_temp = comment.span.text\n",
    "    \n",
    "    if(translator.detect(comment_temp)!='en'):\n",
    "        comment_temp = translator.translate(comment_temp, lang_tgt='en')\n",
    "    \n",
    "    comment_arr.append(comment_temp)"
   ]
  },
  {
   "cell_type": "code",
   "execution_count": 38,
   "metadata": {},
   "outputs": [
    {
     "name": "stdout",
     "output_type": "stream",
     "text": [
      "This monitor is definitely a good value. Does it have superb color and contrast? No. Does it boast the best refresh rate on the market? No. But if you're tight on money, this thing looks and preforms great for the money. It has a Matte screen which does a great job at eliminating glare. The chassis it's enclosed within is absolutely stunning. It features a VGA and and HDMI port. The screen automatically detects signals and turns on when a source is turned on. When the selected source turns off it quickly scans and switches to any other sources. If no connections are available it goes into standby automatically. The power chord is a good 6 or more feet and easy to wrap with half of it being very thin wire. The ON LED is not distracting or too bright. When it's off it looks like a borderless monitor. And unlike what other people say it does have tilt, just not forward or left to right. It stands up straight or leans back. Unfortunately it doesn't have VESA mount holes, but under 100 you can't be that serious about your monitor setup. Small text has some problems fully rendering when using VGA so I recommend using HDMI. If you use the Windows 10 settings to configure how text is displayed though it fixes this, but not all will know how to do that. It doesn't have speaker, and I am thankful that most monitors don't. This monitor has A LOT of settings for gaming, night use, color adjustments, and general settings and all can be saved into 3 different gaming profiles. You can even change what settings appear in the quick menu. When u press any of the menu buttons, the menu pops up and clearly illustrates all the buttons. This monitors menus are super easy to understand and navigate and that's a rarity in its own. Also worth noting; it can display crosshairs and display the monitors current refresh rate. It also packs FreeSync for AMD graphics card users. If you only have DVI, you can get DVI to HDMI chords as long as your computer's video out supports it. The base and monitor couple together with one screw that features a hand flap so you don't need a screw diver if you don't want to use one. It is decently sturdy and the screen doesn't distort even when pressed on with strong pressure. The base is quite large, but wont be a problem for most. I haven't noticed any screen delay compared to my 300 dollar 1ms response time monitor (and I'm pretty picky). It's contrast is a little flat in some scenarios but appears much more dynamic in games, especially with some tweaking. With that said, I like that it looks flat when working on documents because it makes it much easier to focus.All in all, this monitor is filled with a good balance of features and looks like a very solid 1080p 75Hz IPS screen for any monitor under $160, let alone the $80 I paid. If you don't absolutely need a better refresh rate and aren't planning on spending more than 200 dollars then I would say just buy this monitor. It's durable, feature packed, and looks fantastic in all use-case scenarios. I'd give it 1000 stars if I could. \n"
     ]
    }
   ],
   "source": [
    "print(comment_arr[0])"
   ]
  },
  {
   "cell_type": "code",
   "execution_count": 46,
   "metadata": {},
   "outputs": [
    {
     "name": "stdout",
     "output_type": "stream",
     "text": [
      "['Positive Review', 'Positive Review', 'Positive Review', 'Negative Review', 'Positive Review', 'Negative Review', 'Positive Review', 'Positive Review', 'Negative Review', 'Positive Review', 'Positive Review', 'Positive Review']\n",
      "Total number of positive reviews: 9\n",
      "Total number of negative reviews: 3\n"
     ]
    }
   ],
   "source": [
    "## PREDICT\n",
    "\n",
    "pred_arr = []\n",
    "pos = 0\n",
    "neg = 0\n",
    "\n",
    "for comment in comment_arr:\n",
    "    comment_pred = predict_func(comment)\n",
    "    if comment_pred=='Positive Review':\n",
    "        pos+=1\n",
    "    else:\n",
    "        neg+=1\n",
    "    pred_arr.append(comment_pred)\n",
    "    \n",
    "print(pred_arr)\n",
    "print(\"Total number of positive reviews:\", pos)\n",
    "print(\"Total number of negative reviews:\", neg)"
   ]
  },
  {
   "cell_type": "code",
   "execution_count": 44,
   "metadata": {},
   "outputs": [
    {
     "name": "stdout",
     "output_type": "stream",
     "text": [
      "Exact value for money, you pay for this monitor, greatly a monitor of 6Bits + FRC is not 8 truly bits, this serves for gaming for the quick response you have but not to see good colors, not really It has good colors, in general they look wishes but I can not ask for more for this low price. As soon as angles of vision ... you have to be straight to him, you can not see it anywhere because you will see the bleeding of backlight or the even more unlawned colors, it has a very good glitter, of echo hurts you if you put it to the fullest At night, it is extremely bright. By default my NVIDIA card detects it as a 75Hz monitor, hiding the other modes of 60 Hz 50 Hz 30Hz 25Hz 24 Hz 23.7 Hz. It has good sharpness and has good black but I repeat, there is a backlight bleeding even if it is not so severe and I repeat it is good for gaming not for vivid colors or watching movies with vibrant and pretty colors. What if it bothers me about these panels is that neither on the official page mention the fact that it is 6 bits and not 8, which if it marks a big difference in dynamic range and colors, if in case 8 bits has poor colors , Imagine 6bits: terrible. \n"
     ]
    }
   ],
   "source": [
    "print(comment_arr[8])"
   ]
  },
  {
   "cell_type": "code",
   "execution_count": 47,
   "metadata": {},
   "outputs": [],
   "source": [
    "## Issues\n",
    "# Language -> translation or limit to only eng - fixed\n",
    "# Pages -> Load all reviews by going to all reivew pages"
   ]
  },
  {
   "cell_type": "code",
   "execution_count": 49,
   "metadata": {},
   "outputs": [],
   "source": [
    "all_reviews_button = driver.find_elements_by_xpath('//*[@id=\"cr-pagination-footer-0\"]/a')[0]\n",
    "all_reviews_button.click()"
   ]
  },
  {
   "cell_type": "code",
   "execution_count": null,
   "metadata": {},
   "outputs": [],
   "source": [
    "translator = google_translator()\n",
    "\n",
    "all_pages_reached = False\n",
    "\n",
    "comment_arr = []\n",
    "\n",
    "while not all_pages_reached: # iterate through all comments in all pages\n",
    "    comments = soup.find_all('div', {'data-hook':'review-collapsed'})\n",
    "    \n",
    "    for comment in comments:\n",
    "    \n",
    "        comment_temp = comment.span.text\n",
    "    \n",
    "        if(translator.detect(comment_temp)!='en'):\n",
    "            print(\"b4:\",comment_temp)\n",
    "            comment_temp = translator.translate(comment_temp, lang_tgt='en')\n",
    "            print(\"after:\",comment_temp)\n",
    "            \n",
    "    comment_arr.append(comment_temp)\n",
    "    "
   ]
  },
  {
   "cell_type": "code",
   "execution_count": null,
   "metadata": {},
   "outputs": [],
   "source": []
  }
 ],
 "metadata": {
  "kernelspec": {
   "display_name": "Python 3",
   "language": "python",
   "name": "python3"
  },
  "language_info": {
   "codemirror_mode": {
    "name": "ipython",
    "version": 3
   },
   "file_extension": ".py",
   "mimetype": "text/x-python",
   "name": "python",
   "nbconvert_exporter": "python",
   "pygments_lexer": "ipython3",
   "version": "3.7.6"
  }
 },
 "nbformat": 4,
 "nbformat_minor": 4
}
