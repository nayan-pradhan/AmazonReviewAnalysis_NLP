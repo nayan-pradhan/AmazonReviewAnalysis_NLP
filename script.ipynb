{
 "cells": [
  {
   "cell_type": "code",
   "execution_count": 1,
   "metadata": {},
   "outputs": [],
   "source": [
    "import pandas as pd\n",
    "from sklearn.feature_extraction.text import TfidfVectorizer\n",
    "from sklearn.pipeline import Pipeline\n",
    "from sklearn.model_selection import train_test_split\n",
    "from sklearn.metrics import accuracy_score, classification_report, confusion_matrix\n",
    "import string\n",
    "from spacy.lang.en.stop_words import STOP_WORDS\n",
    "import spacy\n",
    "from sklearn.svm import LinearSVC"
   ]
  },
  {
   "cell_type": "code",
   "execution_count": 2,
   "metadata": {},
   "outputs": [],
   "source": [
    "data = pd.read_csv('amazon_data.txt', sep='\\t', header=None)"
   ]
  },
  {
   "cell_type": "code",
   "execution_count": 3,
   "metadata": {},
   "outputs": [
    {
     "data": {
      "text/html": [
       "<div>\n",
       "<style scoped>\n",
       "    .dataframe tbody tr th:only-of-type {\n",
       "        vertical-align: middle;\n",
       "    }\n",
       "\n",
       "    .dataframe tbody tr th {\n",
       "        vertical-align: top;\n",
       "    }\n",
       "\n",
       "    .dataframe thead th {\n",
       "        text-align: right;\n",
       "    }\n",
       "</style>\n",
       "<table border=\"1\" class=\"dataframe\">\n",
       "  <thead>\n",
       "    <tr style=\"text-align: right;\">\n",
       "      <th></th>\n",
       "      <th>Review</th>\n",
       "      <th>Sentiment</th>\n",
       "    </tr>\n",
       "  </thead>\n",
       "  <tbody>\n",
       "    <tr>\n",
       "      <th>0</th>\n",
       "      <td>So there is no way for me to plug it in here i...</td>\n",
       "      <td>0</td>\n",
       "    </tr>\n",
       "    <tr>\n",
       "      <th>1</th>\n",
       "      <td>Good case, Excellent value.</td>\n",
       "      <td>1</td>\n",
       "    </tr>\n",
       "    <tr>\n",
       "      <th>2</th>\n",
       "      <td>Great for the jawbone.</td>\n",
       "      <td>1</td>\n",
       "    </tr>\n",
       "    <tr>\n",
       "      <th>3</th>\n",
       "      <td>Tied to charger for conversations lasting more...</td>\n",
       "      <td>0</td>\n",
       "    </tr>\n",
       "    <tr>\n",
       "      <th>4</th>\n",
       "      <td>The mic is great.</td>\n",
       "      <td>1</td>\n",
       "    </tr>\n",
       "  </tbody>\n",
       "</table>\n",
       "</div>"
      ],
      "text/plain": [
       "                                              Review  Sentiment\n",
       "0  So there is no way for me to plug it in here i...          0\n",
       "1                        Good case, Excellent value.          1\n",
       "2                             Great for the jawbone.          1\n",
       "3  Tied to charger for conversations lasting more...          0\n",
       "4                                  The mic is great.          1"
      ]
     },
     "execution_count": 3,
     "metadata": {},
     "output_type": "execute_result"
    }
   ],
   "source": [
    "data.columns = [\"Review\", \"Sentiment\"]\n",
    "data.head()"
   ]
  },
  {
   "cell_type": "code",
   "execution_count": 4,
   "metadata": {},
   "outputs": [
    {
     "data": {
      "text/plain": [
       "1    500\n",
       "0    500\n",
       "Name: Sentiment, dtype: int64"
      ]
     },
     "execution_count": 4,
     "metadata": {},
     "output_type": "execute_result"
    }
   ],
   "source": [
    "data[\"Sentiment\"].value_counts() # checking data"
   ]
  },
  {
   "cell_type": "code",
   "execution_count": 5,
   "metadata": {},
   "outputs": [
    {
     "data": {
      "text/plain": [
       "Review       0\n",
       "Sentiment    0\n",
       "dtype: int64"
      ]
     },
     "execution_count": 5,
     "metadata": {},
     "output_type": "execute_result"
    }
   ],
   "source": [
    "data.isnull().sum() # checking for null values"
   ]
  },
  {
   "cell_type": "code",
   "execution_count": 6,
   "metadata": {},
   "outputs": [],
   "source": [
    "## helpers for data cleaning\n",
    "punctuation = string.punctuation\n",
    "stop_words = list(STOP_WORDS)\n",
    "nlp = spacy.load(\"en_core_web_sm\")\n",
    "numbers = string.digits\n",
    "# print(stop_words)\n",
    "## function that cleans input text\n",
    "def cleaning_function(input_text):\n",
    "    text = nlp(input_text)\n",
    "    tokens = []\n",
    "    for token in text:\n",
    "        temp = token.lemma_.lower()\n",
    "        tokens.append(temp)\n",
    "\n",
    "    cleaned_tokens = []\n",
    "    for token in tokens:\n",
    "        if token not in stop_words and token not in punctuation and token not in numbers:\n",
    "            cleaned_tokens.append(token)\n",
    "    return cleaned_tokens"
   ]
  },
  {
   "cell_type": "code",
   "execution_count": 7,
   "metadata": {},
   "outputs": [
    {
     "name": "stdout",
     "output_type": "stream",
     "text": [
      "['mic', 'great']\n"
     ]
    }
   ],
   "source": [
    "## test\n",
    "cleaned_text = cleaning_function(data[\"Review\"][4])\n",
    "print(cleaned_text)"
   ]
  },
  {
   "cell_type": "code",
   "execution_count": 8,
   "metadata": {},
   "outputs": [],
   "source": [
    "X = data[\"Review\"]\n",
    "y = data[\"Sentiment\"]"
   ]
  },
  {
   "cell_type": "code",
   "execution_count": 9,
   "metadata": {},
   "outputs": [
    {
     "name": "stdout",
     "output_type": "stream",
     "text": [
      "Classification Report for SVC:\n",
      "              precision    recall  f1-score   support\n",
      "\n",
      "           0       0.75      0.82      0.79       154\n",
      "           1       0.79      0.72      0.75       146\n",
      "\n",
      "    accuracy                           0.77       300\n",
      "   macro avg       0.77      0.77      0.77       300\n",
      "weighted avg       0.77      0.77      0.77       300\n",
      "\n",
      "Confusion Matrix for SVC:\n",
      "[[126  28]\n",
      " [ 41 105]]\n"
     ]
    }
   ],
   "source": [
    "## SVC using tfidf (bag of words)\n",
    "\n",
    "tfidf = TfidfVectorizer(tokenizer = cleaning_function)\n",
    "classifier = LinearSVC()\n",
    "X_train, X_test, y_train, y_test = train_test_split(X, y, test_size = 0.3, random_state=50)\n",
    "SVC_clf = Pipeline([('tfidf', tfidf), ('clf', classifier)])\n",
    "SVC_clf.fit(X_train, y_train)\n",
    "y_pred = SVC_clf.predict(X_test)\n",
    "\n",
    "print(\"Classification Report for SVC:\")\n",
    "print(classification_report(y_test, y_pred))\n",
    "\n",
    "print(\"Confusion Matrix for SVC:\")\n",
    "print(confusion_matrix(y_test, y_pred))"
   ]
  },
  {
   "cell_type": "code",
   "execution_count": 10,
   "metadata": {},
   "outputs": [],
   "source": [
    "def predict_func(string):\n",
    "    temp = SVC_clf.predict([string])\n",
    "    if (temp[0]==0):\n",
    "        return(\"Negative Review\")\n",
    "    else:\n",
    "        return(\"Positive Review\")"
   ]
  },
  {
   "cell_type": "code",
   "execution_count": 11,
   "metadata": {},
   "outputs": [
    {
     "name": "stdout",
     "output_type": "stream",
     "text": [
      "Enter review: hi\n",
      "--> Negative Review\n"
     ]
    }
   ],
   "source": [
    "user_input_text = input(\"Enter review: \")\n",
    "user_input_pred = predict_func(user_input_text)\n",
    "print(\"-->\",user_input_pred)"
   ]
  },
  {
   "cell_type": "code",
   "execution_count": 12,
   "metadata": {},
   "outputs": [],
   "source": [
    "## Add feature: input URL by user and output how many positive and negative comments"
   ]
  },
  {
   "cell_type": "code",
   "execution_count": 13,
   "metadata": {},
   "outputs": [
    {
     "name": "stdout",
     "output_type": "stream",
     "text": [
      "Enter Amazon URL: https://www.amazon.com/Acer-SB220Q-Ultra-Thin-Frame-Monitor/dp/B07CVL2D2S/ref=lp_16225007011_1_10?th=1\n",
      "https://www.amazon.com/Acer-SB220Q-Ultra-Thin-Frame-Monitor/dp/B07CVL2D2S/ref=lp_16225007011_1_10?th=1\n"
     ]
    }
   ],
   "source": [
    "from selenium import webdriver\n",
    "from pathlib import Path \n",
    "from bs4 import BeautifulSoup\n",
    "\n",
    "DRIVER_PATH= str(Path('chromedriver').resolve())\n",
    "\n",
    "user_input_URL = input(\"Enter Amazon URL: \")\n",
    "\n",
    "print(user_input_URL)\n",
    "\n",
    "# https://www.amazon.com/Acer-SB220Q-Ultra-Thin-Frame-Monitor/dp/B07CVL2D2S/ref=lp_16225007011_1_10?th=1"
   ]
  },
  {
   "cell_type": "code",
   "execution_count": 14,
   "metadata": {},
   "outputs": [],
   "source": [
    "driver = webdriver.Chrome(executable_path=DRIVER_PATH)\n",
    "driver.get(user_input_URL)\n",
    "html = driver.page_source\n",
    "soup = BeautifulSoup(html, 'lxml')\n",
    "comments = soup.find_all('div', {'data-hook':'review-collapsed'})"
   ]
  },
  {
   "cell_type": "code",
   "execution_count": 15,
   "metadata": {},
   "outputs": [],
   "source": [
    "# print(comments[0].span.text)\n",
    "# for card in cards:\n",
    "#     print (card)\n",
    "\n",
    "comment_arr = []\n",
    "\n",
    "for comment in comments:\n",
    "    comment_arr.append(comment.span.text)"
   ]
  },
  {
   "cell_type": "code",
   "execution_count": 16,
   "metadata": {},
   "outputs": [
    {
     "name": "stdout",
     "output_type": "stream",
     "text": [
      "\n",
      "  This monitor is definitely a good value. Does it have superb color and contrast? No. Does it boast the best refresh rate on the market? No. But if you're tight on money, this thing looks and preforms great for the money. It has a Matte screen which does a great job at eliminating glare. The chassis it's enclosed within is absolutely stunning. It features a VGA and and HDMI port. The screen automatically detects signals and turns on when a source is turned on. When the selected source turns off it quickly scans and switches to any other sources. If no connections are available it goes into standby automatically. The power chord is a good 6 or more feet and easy to wrap with half of it being very thin wire. The ON LED is not distracting or too bright. When it's off it looks like a borderless monitor. And unlike what other people say it does have tilt, just not forward or left to right. It stands up straight or leans back. Unfortunately it doesn't have VESA mount holes, but under 100 you can't be that serious about your monitor setup. Small text has some problems fully rendering when using VGA so I recommend using HDMI. If you use the Windows 10 settings to configure how text is displayed though it fixes this, but not all will know how to do that. It doesn't have speaker, and I am thankful that most monitors don't. This monitor has A LOT of settings for gaming, night use, color adjustments, and general settings and all can be saved into 3 different gaming profiles. You can even change what settings appear in the quick menu. When u press any of the menu buttons, the menu pops up and clearly illustrates all the buttons. This monitors menus are super easy to understand and navigate and that's a rarity in its own. Also worth noting; it can display crosshairs and display the monitors current refresh rate. It also packs FreeSync for AMD graphics card users. If you only have DVI, you can get DVI to HDMI chords as long as your computer's video out supports it. The base and monitor couple together with one screw that features a hand flap so you don't need a screw diver if you don't want to use one. It is decently sturdy and the screen doesn't distort even when pressed on with strong pressure. The base is quite large, but wont be a problem for most. I haven't noticed any screen delay compared to my 300 dollar 1ms response time monitor (and I'm pretty picky). It's contrast is a little flat in some scenarios but appears much more dynamic in games, especially with some tweaking. With that said, I like that it looks flat when working on documents because it makes it much easier to focus.All in all, this monitor is filled with a good balance of features and looks like a very solid 1080p 75Hz IPS screen for any monitor under $160, let alone the $80 I paid. If you don't absolutely need a better refresh rate and aren't planning on spending more than 200 dollars then I would say just buy this monitor. It's durable, feature packed, and looks fantastic in all use-case scenarios. I'd give it 1000 stars if I could.\n",
      "\n"
     ]
    }
   ],
   "source": [
    "print(comment_arr[0])"
   ]
  },
  {
   "cell_type": "code",
   "execution_count": 18,
   "metadata": {},
   "outputs": [
    {
     "name": "stdout",
     "output_type": "stream",
     "text": [
      "['Positive Review', 'Positive Review', 'Positive Review', 'Negative Review', 'Positive Review', 'Negative Review', 'Positive Review', 'Positive Review', 'Negative Review', 'Positive Review', 'Positive Review', 'Positive Review']\n",
      "\n",
      "  I bought two of these and enjoy them quite a bit. A few reviews complain about ghosting, which I experienced until I realized in the default settings on the monitors had \"overdrive\" or \"OD\" on. As long as you disable this feature you will no longer have ghosting trouble! Hope this helps anyone who bought these and was disappointed, I saw nothing online about fixing this issue other than figuring it out myself by chance.\n",
      "\n"
     ]
    }
   ],
   "source": [
    "## PREDICT\n",
    "\n",
    "pred_arr = []\n",
    "\n",
    "for comment in comment_arr:\n",
    "    comment_pred = predict_func(comment)\n",
    "    pred_arr.append(comment_pred)\n",
    "    \n",
    "print(pred_arr)"
   ]
  },
  {
   "cell_type": "code",
   "execution_count": 21,
   "metadata": {},
   "outputs": [
    {
     "name": "stdout",
     "output_type": "stream",
     "text": [
      "\n",
      "  Compré este monitor por el simple hecho de que era un 1080p 75hz de Acer. Me sorprendió que estas características estuviese a sólo 1,700mxn. No esperaba mucho de él, pero en estos tres meses me dio una gran sorpresa.El monitor es increíblemente liviano y delgado. La fuente de poder es externa, lo que ahorra costos y ayuda a su estética general.Cumple con todo, el full HD, los 75hz,  y es IPS ( no he probado el FreeSYNC, no uso AMD)Pros:+Es muy ligero, facilita mucho la limpieza del escritorio y el transporte.+Costo/beneficio, es de los mejores que puedes encontrar, superando a monitores 1080p60hz+Tiene varios perfiles personalizables y puedes alternar entre ellos fácilmente.+Tiene unos 30 grados de inclinación para mejor visualizaciónCons:-La base es de un plástico ligero y barato. Aunque para el peso del monitor, no necesita más.-Por default tiene un filtro verde muy molesto. Pero Se arregla en 10 minutos corrigiendo el color.-Los botones los tiene en la parte inferior, Cuesta algo de trabajo moverse en el menú a ciegas, y el botón de apagado es igual a todos los demás botones.-Tiene unos bordes negros que hacen parecer que no está dando la resolución total, pero te acostumbras fácilmente.Recomiendo ampliamente este monitor 100%.\n",
      "\n"
     ]
    }
   ],
   "source": [
    "print(comment_arr[10])"
   ]
  },
  {
   "cell_type": "code",
   "execution_count": null,
   "metadata": {},
   "outputs": [],
   "source": []
  }
 ],
 "metadata": {
  "kernelspec": {
   "display_name": "Python 3",
   "language": "python",
   "name": "python3"
  },
  "language_info": {
   "codemirror_mode": {
    "name": "ipython",
    "version": 3
   },
   "file_extension": ".py",
   "mimetype": "text/x-python",
   "name": "python",
   "nbconvert_exporter": "python",
   "pygments_lexer": "ipython3",
   "version": "3.7.6"
  }
 },
 "nbformat": 4,
 "nbformat_minor": 4
}
